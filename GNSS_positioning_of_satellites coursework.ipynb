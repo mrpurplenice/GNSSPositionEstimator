{
  "nbformat": 4,
  "nbformat_minor": 0,
  "metadata": {
    "colab": {
      "provenance": []
    },
    "kernelspec": {
      "name": "python3",
      "display_name": "Python 3"
    },
    "language_info": {
      "name": "python"
    }
  },
  "cells": [
    {
      "cell_type": "code",
      "source": [
        "import numpy as np\n",
        "from scipy.optimize import least_squares\n",
        "\n",
        "# Constants\n",
        "c = 299792458  # Speed of light in vacuum, in m/s\n",
        "\n",
        "# Satellite positions in ECEF coordinates (x, y, z) for satellites 1 to 4\n",
        "satellite_positions = np.array([\n",
        "    [10053355.10, 15056487.96, 25504822.96],\n",
        "    [20655550.99, 5147316.42, 16608524.31],\n",
        "    [21764223.92, -6594586.14, 15678237.26],\n",
        "    [10509172.26, -14025870.89, 25122346.95]\n",
        "])\n",
        "\n",
        "# Pseudo-range measurements for satellites 1 to 4\n",
        "measured_pseudo_ranges = np.array([26155755.9003033, 21053427.7312908, 21833394.9590138, 25313055.4481566])\n",
        "\n",
        "# Function to calculate the predicted pseudo-ranges\n",
        "def calculate_predicted_ranges(position, clock_error, satellite_positions):\n",
        "    ranges = np.sqrt(np.sum((satellite_positions - position) ** 2, axis=1))\n",
        "    return ranges + clock_error\n",
        "\n",
        "# Function to form the H matrix\n",
        "def form_H_matrix(position, satellite_positions, predicted_ranges):\n",
        "    H = np.zeros((len(satellite_positions), 4))\n",
        "    for i, (sx, sy, sz) in enumerate(satellite_positions):\n",
        "        r = predicted_ranges[i]\n",
        "        H[i, :3] = (position - np.array([sx, sy, sz])) / r\n",
        "        H[i, 3] = 1  # Derivative with respect to clock bias is 1\n",
        "    return H\n",
        "\n",
        "# Function to calculate the theoretical pseudo-ranges for a given receiver position and clock error\n",
        "def calculate_pseudo_ranges(position, clock_error, satellite_positions):\n",
        "    distances = np.sqrt(np.sum((satellite_positions - position) ** 2, axis=1))\n",
        "    return distances + clock_error * c\n",
        "\n",
        "# Residuals function for least squares solver\n",
        "def residuals(params, satellite_positions, measured_pseudo_ranges):\n",
        "    position = params[:3]\n",
        "    clock_error = params[3]\n",
        "    predicted_ranges = calculate_predicted_ranges(position, clock_error, satellite_positions)\n",
        "    H = form_H_matrix(position, satellite_positions, predicted_ranges)\n",
        "    calculated_pseudo_ranges = calculate_pseudo_ranges(position, clock_error, satellite_positions)\n",
        "    return H @ (calculated_pseudo_ranges - measured_pseudo_ranges)\n",
        "\n",
        "# Initial guess for the receiver's position (x, y, z) and clock error\n",
        "initial_guess = np.array([0, 0, 0, 0])  # Clock error in meters, assuming the center of the Earth\n",
        "\n",
        "# Perform least squares optimization\n",
        "result = least_squares(residuals, initial_guess, args=(satellite_positions, measured_pseudo_ranges))\n",
        "\n",
        "# The result contains the estimated receiver position and clock error\n",
        "estimated_position = result.x[:3]\n",
        "estimated_clock_error = result.x[3] / c  # Convert clock error back to seconds\n",
        "\n",
        "# Constants for the WGS-84 ellipsoid\n",
        "a = 6378137.0  # Semi-major axis\n",
        "f = 1 / 298.257223563  # Flattening\n",
        "e_squared = f * (2 - f)  # Eccentricity squared\n",
        "\n",
        "def cartesian_to_curvilinear_corrected(x, y, z):\n",
        "    # Calculations\n",
        "    p = np.sqrt(x**2 + y**2)  # Distance to z-axis\n",
        "\n",
        "    # Initial guess for latitude based on spherical earth\n",
        "    lat0 = np.arctan2(z, p)\n",
        "\n",
        "    # Iterative calculation of geodetic latitude\n",
        "    N = a\n",
        "    h = 0\n",
        "    lat = lat0\n",
        "    for _ in range(5):  # Five iterations should be enough for convergence\n",
        "        N = a / np.sqrt(1 - e_squared * np.sin(lat)**2)\n",
        "        h = p / np.cos(lat) - N\n",
        "        lat = np.arctan2(z, p * (1 - e_squared * (N / (N + h))))\n",
        "\n",
        "    # Longitude calculation\n",
        "    lon = np.arctan2(y, x)\n",
        "\n",
        "    # Convert radians to degrees for latitude and longitude\n",
        "    lat_deg = np.degrees(lat)\n",
        "    lon_deg = np.degrees(lon)\n",
        "\n",
        "    return lat_deg, lon_deg, h\n",
        "\n",
        "# Use the estimated ECEF position to calculate the latitude, longitude, and corrected height\n",
        "latitude_deg, longitude_deg, height_meters = cartesian_to_curvilinear_corrected(*estimated_position)\n",
        "\n",
        "# Outputs\n",
        "print(\"Estimated Position (ECEF):\", estimated_position)\n",
        "print(\"Estimated Clock Error (seconds):\", estimated_clock_error)\n",
        "print(\"Latitude (degrees):\", latitude_deg)\n",
        "print(\"Longitude (degrees):\", longitude_deg)\n",
        "print(\"Height (meters):\", height_meters)\n"
      ],
      "metadata": {
        "colab": {
          "base_uri": "https://localhost:8080/"
        },
        "id": "BsXPK6XHFBki",
        "outputId": "b33c4acc-e16f-415e-f71e-078323c5f9d5"
      },
      "execution_count": 18,
      "outputs": [
        {
          "output_type": "stream",
          "name": "stdout",
          "text": [
            "Estimated Position (ECEF): [3816733.93367205  -65828.71542141 5092638.70460178]\n",
            "Estimated Clock Error (seconds): -2.4162344607219496e-14\n",
            "Latitude (degrees): 53.33030509840839\n",
            "Longitude (degrees): -0.9881049356481474\n",
            "Height (meters): 71.75928454659879\n"
          ]
        }
      ]
    }
  ]
}